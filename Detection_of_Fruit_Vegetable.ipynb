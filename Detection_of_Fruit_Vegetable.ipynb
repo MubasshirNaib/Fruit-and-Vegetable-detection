{
  "cells": [
    {
      "cell_type": "markdown",
      "metadata": {
        "id": "view-in-github",
        "colab_type": "text"
      },
      "source": [
        "<a href=\"https://colab.research.google.com/github/MubasshirNaib/Fruit-and-Vegetable-detection/blob/main/Detection_of_Fruit_Vegetable.ipynb\" target=\"_parent\"><img src=\"https://colab.research.google.com/assets/colab-badge.svg\" alt=\"Open In Colab\"/></a>"
      ]
    },
    {
      "cell_type": "markdown",
      "metadata": {
        "id": "Tc-kaA2dh0Ma"
      },
      "source": [
        "# Importing Dataset"
      ]
    },
    {
      "cell_type": "code",
      "execution_count": null,
      "metadata": {
        "colab": {
          "base_uri": "https://localhost:8080/"
        },
        "id": "G434vgPaihRc",
        "outputId": "4b134158-7db4-418d-fbcf-c07d732f4764"
      },
      "outputs": [
        {
          "output_type": "stream",
          "name": "stdout",
          "text": [
            "Mounted at /content/drive\n"
          ]
        }
      ],
      "source": [
        "from google.colab import drive\n",
        "drive.mount('/content/drive')"
      ]
    },
    {
      "cell_type": "markdown",
      "metadata": {
        "id": "MHHi-6rBkYVT"
      },
      "source": [
        "# Importing libraries"
      ]
    },
    {
      "cell_type": "code",
      "execution_count": null,
      "metadata": {
        "id": "4JzqY50fke0m"
      },
      "outputs": [],
      "source": [
        "import numpy as np\n",
        "import tensorflow as tf\n",
        "import matplotlib.pyplot as plt"
      ]
    },
    {
      "cell_type": "markdown",
      "metadata": {
        "id": "z6X1sl_vmVMw"
      },
      "source": [
        "#Data Preprocessing"
      ]
    },
    {
      "cell_type": "code",
      "execution_count": null,
      "metadata": {
        "id": "6XpIsYEOmeAn"
      },
      "outputs": [],
      "source": []
    },
    {
      "cell_type": "markdown",
      "metadata": {
        "id": "INzMT-XJm6fI"
      },
      "source": [
        "##Training Image preprocessing"
      ]
    },
    {
      "cell_type": "code",
      "execution_count": null,
      "metadata": {
        "colab": {
          "base_uri": "https://localhost:8080/"
        },
        "id": "AL--Ba-RnHkR",
        "outputId": "f3947cb5-b9ac-47a8-8fad-1c291d4bbd76"
      },
      "outputs": [
        {
          "output_type": "stream",
          "name": "stdout",
          "text": [
            "Found 3130 files belonging to 36 classes.\n"
          ]
        }
      ],
      "source": [
        "training_set = tf.keras.utils.image_dataset_from_directory(\n",
        "    '/content/drive/MyDrive/Dataset/train',\n",
        "    labels=\"inferred\",\n",
        "    label_mode=\"categorical\",\n",
        "    class_names=None,\n",
        "    color_mode=\"rgb\",\n",
        "    batch_size=32,\n",
        "    image_size=(64, 64),\n",
        "    shuffle=True,\n",
        "    seed=None,\n",
        "    validation_split=None,\n",
        "    subset=None,\n",
        "    interpolation=\"bilinear\",\n",
        "    follow_links=False,\n",
        "    crop_to_aspect_ratio=False\n",
        ")"
      ]
    },
    {
      "cell_type": "markdown",
      "metadata": {
        "id": "anvwotvVqQbU"
      },
      "source": [
        "##Validation Image Preprocessing"
      ]
    },
    {
      "cell_type": "code",
      "execution_count": null,
      "metadata": {
        "colab": {
          "base_uri": "https://localhost:8080/"
        },
        "id": "oXRaB239qdQC",
        "outputId": "1701cac0-649f-4051-be52-62b79bdbbe21"
      },
      "outputs": [
        {
          "output_type": "stream",
          "name": "stdout",
          "text": [
            "Found 351 files belonging to 36 classes.\n"
          ]
        }
      ],
      "source": [
        "validation_set = tf.keras.utils.image_dataset_from_directory(\n",
        "    '/content/drive/MyDrive/Dataset/validation',\n",
        "    labels=\"inferred\",\n",
        "    label_mode=\"categorical\",\n",
        "    class_names=None,\n",
        "    color_mode=\"rgb\",\n",
        "    batch_size=32,\n",
        "    image_size=(64, 64),\n",
        "    shuffle=True,\n",
        "    seed=None,\n",
        "    validation_split=None,\n",
        "    subset=None,\n",
        "    interpolation=\"bilinear\",\n",
        "    follow_links=False,\n",
        "    crop_to_aspect_ratio=False\n",
        ")"
      ]
    },
    {
      "cell_type": "markdown",
      "metadata": {
        "id": "gzf9jWgUvJCV"
      },
      "source": [
        "#Building Model"
      ]
    },
    {
      "cell_type": "code",
      "execution_count": null,
      "metadata": {
        "id": "UzpviR6-vML5"
      },
      "outputs": [],
      "source": [
        "cnn = tf.keras.models.Sequential()"
      ]
    },
    {
      "cell_type": "markdown",
      "metadata": {
        "id": "rvAUGhmmviZO"
      },
      "source": [
        "##Building Convolution Layer"
      ]
    },
    {
      "cell_type": "code",
      "execution_count": null,
      "metadata": {
        "id": "z8lfSW9XvpDF"
      },
      "outputs": [],
      "source": [
        "cnn.add(tf.keras.layers.Conv2D(filters=64,kernel_size=3,padding='same',activation='relu',input_shape=[64,64,3]))\n",
        "cnn.add(tf.keras.layers.MaxPool2D(pool_size=2,strides=2))"
      ]
    },
    {
      "cell_type": "code",
      "execution_count": null,
      "metadata": {
        "id": "BhwC_QtvxD6j"
      },
      "outputs": [],
      "source": [
        "cnn.add(tf.keras.layers.Conv2D(filters=64,kernel_size=3,padding='same',activation='relu'))\n",
        "cnn.add(tf.keras.layers.MaxPool2D(pool_size=2,strides=2))"
      ]
    },
    {
      "cell_type": "code",
      "execution_count": null,
      "metadata": {
        "id": "3RYMIt6MxsZi"
      },
      "outputs": [],
      "source": [
        "cnn.add(tf.keras.layers.Dropout(0.5))#To avoid overfitting"
      ]
    },
    {
      "cell_type": "code",
      "execution_count": null,
      "metadata": {
        "id": "zIUSNygpyGkx"
      },
      "outputs": [],
      "source": [
        "cnn.add(tf.keras.layers.Flatten())"
      ]
    },
    {
      "cell_type": "code",
      "execution_count": null,
      "metadata": {
        "id": "6wTnwdRZyUb1"
      },
      "outputs": [],
      "source": [
        "cnn.add(tf.keras.layers.Dense(units=128,activation='relu'))"
      ]
    },
    {
      "cell_type": "code",
      "execution_count": null,
      "metadata": {
        "id": "5_REROuhysDw"
      },
      "outputs": [],
      "source": [
        "#Outpur layer\n",
        "cnn.add(tf.keras.layers.Dense(units=36,activation='softmax'))"
      ]
    },
    {
      "cell_type": "markdown",
      "metadata": {
        "id": "L98CJzoozZo5"
      },
      "source": [
        "#Compling and Training Phase"
      ]
    },
    {
      "cell_type": "code",
      "execution_count": null,
      "metadata": {
        "id": "v6sPhzEdzink"
      },
      "outputs": [],
      "source": [
        "cnn.compile(optimizer='rmsprop',loss='categorical_crossentropy',metrics=['accuracy'])"
      ]
    },
    {
      "cell_type": "code",
      "execution_count": null,
      "metadata": {
        "colab": {
          "base_uri": "https://localhost:8080/"
        },
        "id": "CpVWYV3O0K2H",
        "outputId": "806a6cf6-6e46-44a4-e5d8-e6be1a913612"
      },
      "outputs": [
        {
          "output_type": "stream",
          "name": "stdout",
          "text": [
            "Epoch 1/30\n",
            "98/98 [==============================] - 677s 6s/step - loss: 17.2361 - accuracy: 0.0339 - val_loss: 3.4902 - val_accuracy: 0.0798\n",
            "Epoch 2/30\n",
            "98/98 [==============================] - 136s 1s/step - loss: 4.3524 - accuracy: 0.0489 - val_loss: 3.8729 - val_accuracy: 0.0570\n",
            "Epoch 3/30\n",
            "98/98 [==============================] - 134s 1s/step - loss: 3.6794 - accuracy: 0.0524 - val_loss: 3.4944 - val_accuracy: 0.0627\n",
            "Epoch 4/30\n",
            "98/98 [==============================] - 144s 1s/step - loss: 3.8386 - accuracy: 0.0613 - val_loss: 3.3820 - val_accuracy: 0.0798\n",
            "Epoch 5/30\n",
            "98/98 [==============================] - 126s 1s/step - loss: 3.5662 - accuracy: 0.0696 - val_loss: 3.4477 - val_accuracy: 0.0655\n",
            "Epoch 6/30\n",
            "98/98 [==============================] - 137s 1s/step - loss: 3.7887 - accuracy: 0.0866 - val_loss: 3.2905 - val_accuracy: 0.1225\n",
            "Epoch 7/30\n",
            "98/98 [==============================] - 134s 1s/step - loss: 3.5284 - accuracy: 0.0997 - val_loss: 3.2345 - val_accuracy: 0.1083\n",
            "Epoch 8/30\n",
            "98/98 [==============================] - 136s 1s/step - loss: 3.4487 - accuracy: 0.1067 - val_loss: 4.5977 - val_accuracy: 0.1225\n",
            "Epoch 9/30\n",
            "98/98 [==============================] - 134s 1s/step - loss: 3.4802 - accuracy: 0.1294 - val_loss: 2.9569 - val_accuracy: 0.2108\n",
            "Epoch 10/30\n",
            "98/98 [==============================] - 137s 1s/step - loss: 3.2033 - accuracy: 0.1502 - val_loss: 2.9771 - val_accuracy: 0.2137\n",
            "Epoch 11/30\n",
            "98/98 [==============================] - 138s 1s/step - loss: 3.1586 - accuracy: 0.1716 - val_loss: 2.7636 - val_accuracy: 0.2507\n",
            "Epoch 12/30\n",
            "98/98 [==============================] - 143s 1s/step - loss: 2.8867 - accuracy: 0.2201 - val_loss: 2.6437 - val_accuracy: 0.2934\n",
            "Epoch 13/30\n",
            "98/98 [==============================] - 135s 1s/step - loss: 2.8536 - accuracy: 0.2473 - val_loss: 2.8498 - val_accuracy: 0.2934\n",
            "Epoch 14/30\n",
            "98/98 [==============================] - 139s 1s/step - loss: 2.6751 - accuracy: 0.2767 - val_loss: 2.5098 - val_accuracy: 0.3618\n",
            "Epoch 15/30\n",
            "98/98 [==============================] - 137s 1s/step - loss: 2.5289 - accuracy: 0.3067 - val_loss: 2.1871 - val_accuracy: 0.4274\n",
            "Epoch 16/30\n",
            "98/98 [==============================] - 145s 1s/step - loss: 2.4003 - accuracy: 0.3387 - val_loss: 2.1879 - val_accuracy: 0.4758\n",
            "Epoch 17/30\n",
            "98/98 [==============================] - 128s 1s/step - loss: 2.2196 - accuracy: 0.3799 - val_loss: 2.1117 - val_accuracy: 0.5613\n",
            "Epoch 18/30\n",
            "98/98 [==============================] - 1582s 16s/step - loss: 2.1328 - accuracy: 0.3984 - val_loss: 2.0062 - val_accuracy: 0.5442\n",
            "Epoch 19/30\n",
            "98/98 [==============================] - 141s 1s/step - loss: 2.0348 - accuracy: 0.4367 - val_loss: 1.8656 - val_accuracy: 0.6154\n",
            "Epoch 20/30\n",
            "98/98 [==============================] - 134s 1s/step - loss: 1.9431 - accuracy: 0.4677 - val_loss: 1.9361 - val_accuracy: 0.6382\n",
            "Epoch 21/30\n",
            "98/98 [==============================] - 135s 1s/step - loss: 1.8463 - accuracy: 0.4840 - val_loss: 1.9220 - val_accuracy: 0.5869\n",
            "Epoch 22/30\n",
            "98/98 [==============================] - 133s 1s/step - loss: 1.7525 - accuracy: 0.5029 - val_loss: 1.5951 - val_accuracy: 0.6638\n",
            "Epoch 23/30\n",
            "98/98 [==============================] - 144s 1s/step - loss: 1.7081 - accuracy: 0.5281 - val_loss: 1.8786 - val_accuracy: 0.6097\n",
            "Epoch 24/30\n",
            "98/98 [==============================] - 135s 1s/step - loss: 1.6597 - accuracy: 0.5358 - val_loss: 1.7717 - val_accuracy: 0.6553\n",
            "Epoch 25/30\n",
            "98/98 [==============================] - 136s 1s/step - loss: 1.5139 - accuracy: 0.5696 - val_loss: 1.7549 - val_accuracy: 0.6581\n",
            "Epoch 26/30\n",
            "98/98 [==============================] - 134s 1s/step - loss: 1.5106 - accuracy: 0.5885 - val_loss: 1.5757 - val_accuracy: 0.7009\n",
            "Epoch 27/30\n",
            "98/98 [==============================] - 143s 1s/step - loss: 1.3769 - accuracy: 0.6278 - val_loss: 1.5283 - val_accuracy: 0.7721\n",
            "Epoch 28/30\n",
            "98/98 [==============================] - 131s 1s/step - loss: 1.3731 - accuracy: 0.6281 - val_loss: 1.7497 - val_accuracy: 0.7835\n",
            "Epoch 29/30\n",
            "98/98 [==============================] - 135s 1s/step - loss: 1.2539 - accuracy: 0.6636 - val_loss: 1.5643 - val_accuracy: 0.8091\n",
            "Epoch 30/30\n",
            "98/98 [==============================] - 127s 1s/step - loss: 1.2562 - accuracy: 0.6668 - val_loss: 1.5551 - val_accuracy: 0.7635\n"
          ]
        }
      ],
      "source": [
        "training_history = cnn.fit(x=training_set,validation_data=validation_set,epochs=30)"
      ]
    },
    {
      "cell_type": "markdown",
      "metadata": {
        "id": "-nyeKY_9x4Rr"
      },
      "source": [
        "##Saving Model"
      ]
    },
    {
      "cell_type": "code",
      "execution_count": null,
      "metadata": {
        "id": "vTi9eQRBx8kM",
        "colab": {
          "base_uri": "https://localhost:8080/"
        },
        "outputId": "89dca550-7167-494f-b441-ff48e8208457"
      },
      "outputs": [
        {
          "output_type": "stream",
          "name": "stderr",
          "text": [
            "/usr/local/lib/python3.10/dist-packages/keras/src/engine/training.py:3079: UserWarning: You are saving your model as an HDF5 file via `model.save()`. This file format is considered legacy. We recommend using instead the native Keras format, e.g. `model.save('my_model.keras')`.\n",
            "  saving_api.save_model(\n"
          ]
        }
      ],
      "source": [
        "cnn.save('trained_model.h5')"
      ]
    },
    {
      "cell_type": "code",
      "execution_count": null,
      "metadata": {
        "id": "AWLESKdI1En3",
        "colab": {
          "base_uri": "https://localhost:8080/"
        },
        "outputId": "2c829880-f34e-4730-8911-fdc3044f3295"
      },
      "outputs": [
        {
          "output_type": "execute_result",
          "data": {
            "text/plain": [
              "{'loss': [17.236103057861328,\n",
              "  4.352417469024658,\n",
              "  3.6794469356536865,\n",
              "  3.838599920272827,\n",
              "  3.5662002563476562,\n",
              "  3.7886884212493896,\n",
              "  3.5283524990081787,\n",
              "  3.448664426803589,\n",
              "  3.480173349380493,\n",
              "  3.2032628059387207,\n",
              "  3.1585774421691895,\n",
              "  2.886653184890747,\n",
              "  2.8536012172698975,\n",
              "  2.6751444339752197,\n",
              "  2.528883218765259,\n",
              "  2.4002559185028076,\n",
              "  2.219642400741577,\n",
              "  2.132822275161743,\n",
              "  2.034757614135742,\n",
              "  1.943087100982666,\n",
              "  1.8462913036346436,\n",
              "  1.7525112628936768,\n",
              "  1.708064079284668,\n",
              "  1.659688115119934,\n",
              "  1.5139445066452026,\n",
              "  1.5106310844421387,\n",
              "  1.3769495487213135,\n",
              "  1.3731029033660889,\n",
              "  1.253929615020752,\n",
              "  1.2561640739440918],\n",
              " 'accuracy': [0.03386581316590309,\n",
              "  0.048881787806749344,\n",
              "  0.05239616706967354,\n",
              "  0.06134185194969177,\n",
              "  0.06964856386184692,\n",
              "  0.08658146858215332,\n",
              "  0.09968051314353943,\n",
              "  0.10670926421880722,\n",
              "  0.12939296662807465,\n",
              "  0.15015974640846252,\n",
              "  0.1715654879808426,\n",
              "  0.22012779116630554,\n",
              "  0.24728433787822723,\n",
              "  0.27667731046676636,\n",
              "  0.30670925974845886,\n",
              "  0.3386581540107727,\n",
              "  0.37987220287323,\n",
              "  0.39840254187583923,\n",
              "  0.4367412030696869,\n",
              "  0.46773162484169006,\n",
              "  0.4840255677700043,\n",
              "  0.5028753876686096,\n",
              "  0.5281150341033936,\n",
              "  0.5357827544212341,\n",
              "  0.5696485638618469,\n",
              "  0.5884984135627747,\n",
              "  0.6277955174446106,\n",
              "  0.6281149983406067,\n",
              "  0.6635782718658447,\n",
              "  0.6667731404304504],\n",
              " 'val_loss': [3.4901769161224365,\n",
              "  3.872936725616455,\n",
              "  3.4943878650665283,\n",
              "  3.381991386413574,\n",
              "  3.4477412700653076,\n",
              "  3.2904577255249023,\n",
              "  3.2345378398895264,\n",
              "  4.597743511199951,\n",
              "  2.956906795501709,\n",
              "  2.9771101474761963,\n",
              "  2.763639211654663,\n",
              "  2.643681526184082,\n",
              "  2.8498222827911377,\n",
              "  2.5098044872283936,\n",
              "  2.187108039855957,\n",
              "  2.1878957748413086,\n",
              "  2.111743450164795,\n",
              "  2.006218194961548,\n",
              "  1.8656028509140015,\n",
              "  1.9360805749893188,\n",
              "  1.921964406967163,\n",
              "  1.5950936079025269,\n",
              "  1.878623127937317,\n",
              "  1.77165687084198,\n",
              "  1.7549279928207397,\n",
              "  1.5757184028625488,\n",
              "  1.5282766819000244,\n",
              "  1.7496910095214844,\n",
              "  1.5642573833465576,\n",
              "  1.5551204681396484],\n",
              " 'val_accuracy': [0.07977207750082016,\n",
              "  0.056980058550834656,\n",
              "  0.06267806142568588,\n",
              "  0.07977207750082016,\n",
              "  0.0655270665884018,\n",
              "  0.12250712513923645,\n",
              "  0.10826210677623749,\n",
              "  0.12250712513923645,\n",
              "  0.21082621812820435,\n",
              "  0.21367521584033966,\n",
              "  0.25071224570274353,\n",
              "  0.2934472858905792,\n",
              "  0.2934472858905792,\n",
              "  0.36182335019111633,\n",
              "  0.4273504316806793,\n",
              "  0.47578346729278564,\n",
              "  0.561253547668457,\n",
              "  0.5441595315933228,\n",
              "  0.6153846383094788,\n",
              "  0.6381766200065613,\n",
              "  0.5868945717811584,\n",
              "  0.6638176441192627,\n",
              "  0.6096866130828857,\n",
              "  0.6552706360816956,\n",
              "  0.6581196784973145,\n",
              "  0.7008547186851501,\n",
              "  0.7720797657966614,\n",
              "  0.7834757566452026,\n",
              "  0.809116780757904,\n",
              "  0.7635327577590942]}"
            ]
          },
          "metadata": {},
          "execution_count": 18
        }
      ],
      "source": [
        "training_history.history #Return Dictionary of history"
      ]
    },
    {
      "cell_type": "code",
      "execution_count": null,
      "metadata": {
        "id": "ievJ8_mL0VgU"
      },
      "outputs": [],
      "source": [
        "#Recording History\n",
        "import json\n",
        "with open('training_hist.json','w') as f:\n",
        "  json.dump(training_history.history,f)\n"
      ]
    },
    {
      "cell_type": "code",
      "execution_count": null,
      "metadata": {
        "id": "q2uzdOy21vM3",
        "colab": {
          "base_uri": "https://localhost:8080/"
        },
        "outputId": "8b175b29-bd09-45e7-b44f-a18289cb2bb4"
      },
      "outputs": [
        {
          "output_type": "stream",
          "name": "stdout",
          "text": [
            "dict_keys(['loss', 'accuracy', 'val_loss', 'val_accuracy'])\n"
          ]
        }
      ],
      "source": [
        "print(training_history.history.keys())"
      ]
    },
    {
      "cell_type": "markdown",
      "source": [
        "##Calculating Accuracy of Model Achieved on Validation set"
      ],
      "metadata": {
        "id": "ghfS_bdT1tSP"
      }
    },
    {
      "cell_type": "code",
      "source": [
        "print(\"Validation set Accuracy: {} %\".format(training_history.history['val_accuracy'][-1]*100))"
      ],
      "metadata": {
        "colab": {
          "base_uri": "https://localhost:8080/"
        },
        "id": "oweNeKdZ2Huy",
        "outputId": "b8721dda-cf96-46e2-b2f7-d811cd8723b0"
      },
      "execution_count": null,
      "outputs": [
        {
          "output_type": "stream",
          "name": "stdout",
          "text": [
            "Validation set Accuracy: 76.35327577590942 %\n"
          ]
        }
      ]
    },
    {
      "cell_type": "markdown",
      "source": [
        "#Accuracy Visualization"
      ],
      "metadata": {
        "id": "f7Y3MtbN3vub"
      }
    },
    {
      "cell_type": "markdown",
      "source": [
        "##Training Visualization"
      ],
      "metadata": {
        "id": "0TOZ_uOp34H1"
      }
    },
    {
      "cell_type": "code",
      "source": [
        "epochs = [i for i in range(1,31)]\n",
        "plt.plot(epochs,training_history.history['accuracy'],color='red')\n",
        "plt.xlabel('No. of Epochs')\n",
        "plt.ylabel('Traiining Accuracy')\n",
        "plt.title('Visualization of Training Accuracy Result')\n",
        "plt.show()"
      ],
      "metadata": {
        "colab": {
          "base_uri": "https://localhost:8080/",
          "height": 472
        },
        "id": "15IZnPzq3_ze",
        "outputId": "e5261a2a-25c9-4e77-b3ac-45785ee48939"
      },
      "execution_count": null,
      "outputs": [
        {
          "output_type": "display_data",
          "data": {
            "text/plain": [
              "<Figure size 640x480 with 1 Axes>"
            ],
            "image/png": "[encoded data removed]"
          },
          "metadata": {}
        }
      ]
    },
    {
      "cell_type": "markdown",
      "source": [
        "##Validation Accuracy"
      ],
      "metadata": {
        "id": "ynCHm23-4pG7"
      }
    },
    {
      "cell_type": "code",
      "source": [
        "plt.plot(epochs,training_history.history['val_accuracy'],color='blue')\n",
        "plt.xlabel('No. of Epochs')\n",
        "plt.ylabel('Validation Accuracy')\n",
        "plt.title('Visualization of Validation Accuracy Result')\n",
        "plt.show()"
      ],
      "metadata": {
        "colab": {
          "base_uri": "https://localhost:8080/",
          "height": 472
        },
        "id": "5h2xzZNu4ugj",
        "outputId": "6a69f544-8119-457b-d0c4-8e96b66c148e"
      },
      "execution_count": null,
      "outputs": [
        {
          "output_type": "display_data",
          "data": {
            "text/plain": [
              "<Figure size 640x480 with 1 Axes>"
            ],
            "image/png": "[encoded data removed]"
          },
          "metadata": {}
        }
      ]
    }
  ],
  "metadata": {
    "colab": {
      "collapsed_sections": [
        "Tc-kaA2dh0Ma",
        "MHHi-6rBkYVT",
        "z6X1sl_vmVMw",
        "gzf9jWgUvJCV"
      ],
      "provenance": [],
      "gpuType": "T4",
      "authorship_tag": "ABX9TyP0HiVrfECOgKEeLIMnMzpy",
      "include_colab_link": true
    },
    "kernelspec": {
      "display_name": "Python 3",
      "name": "python3"
    },
    "language_info": {
      "name": "python"
    },
    "accelerator": "GPU"
  },
  "nbformat": 4,
  "nbformat_minor": 0
}